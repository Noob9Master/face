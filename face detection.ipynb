{
 "cells": [
  {
   "cell_type": "code",
   "execution_count": null,
   "metadata": {},
   "outputs": [],
   "source": [
    " \n",
    "\n"
   ]
  },
  {
   "cell_type": "code",
   "execution_count": null,
   "metadata": {},
   "outputs": [],
   "source": [
    "import cv2\n",
    "cap=cv2.VideoCapture(0)\n",
    "faceCascade=cv2.CascadeClassifier(\"haarcascade_frontalface_default.xml\")\n",
    "while (True):\n",
    " ret, frame=cap.read()\n",
    " gray=cv2.cvtColor(frame,cv2.COLOR_BGR2GRAY)\n",
    "    \n",
    " faces=faceCascade.detectMultiScale(\n",
    "     gray,\n",
    "     scaleFactor=1.1,\n",
    "     minNeighbors=5,\n",
    "     minSize=(30, 30),\n",
    " )\n",
    " \n",
    "print(\"Found(0) faces!\".format(len(faces)))\n",
    "\n",
    "for (x,y,w,h) in faces:\n",
    "        cv2.rectangle(frame,(x,y),(x+w , y+h),(0 , 255,0) , 2)\n",
    "        cv2.imshow('frame', frame)\n",
    "        if cv2.waitkey(1)&0xFF==ord('s'):\n",
    "            break\n",
    "             \n",
    "cap.release()\n",
    "cv2.destroyAllWindows()"
   ]
  },
  {
   "cell_type": "code",
   "execution_count": null,
   "metadata": {},
   "outputs": [],
   "source": []
  },
  {
   "cell_type": "code",
   "execution_count": null,
   "metadata": {},
   "outputs": [],
   "source": []
  },
  {
   "cell_type": "code",
   "execution_count": null,
   "metadata": {},
   "outputs": [],
   "source": []
  },
  {
   "cell_type": "code",
   "execution_count": null,
   "metadata": {},
   "outputs": [],
   "source": []
  }
 ],
 "metadata": {
  "kernelspec": {
   "display_name": "Python 3",
   "language": "python",
   "name": "python3"
  },
  "language_info": {
   "codemirror_mode": {
    "name": "ipython",
    "version": 3
   },
   "file_extension": ".py",
   "mimetype": "text/x-python",
   "name": "python",
   "nbconvert_exporter": "python",
   "pygments_lexer": "ipython3",
   "version": "3.7.4"
  }
 },
 "nbformat": 4,
 "nbformat_minor": 2
}
